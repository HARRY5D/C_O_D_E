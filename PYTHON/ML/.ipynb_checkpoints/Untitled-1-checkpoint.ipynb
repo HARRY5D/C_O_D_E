{
 "cells": [
  {
   "cell_type": "markdown",
   "id": "8df89255",
   "metadata": {},
   "source": [
    "# California Arrest Data Analysis\n",
    "\n",
    "This notebook analyzes California arrest data for 2009 and 2018 to answer questions about:\n",
    "- Average county-level felony drug arrest rates\n",
    "- Percentage changes in arrest rates\n",
    "- Difference-in-Difference analysis\n",
    "\n",
    "## Data Sources:\n",
    "- `ca_arrests_2009.csv`: 2009 California arrest data by county\n",
    "- `ca_arrests_2018.csv`: 2018 California arrest data by county  \n",
    "- `nhgis_county_populations.csv`: County population data"
   ]
  },
  {
   "cell_type": "code",
   "execution_count": null,
   "id": "05fa18ad",
   "metadata": {},
   "outputs": [],
   "source": [
    "# Import required libraries\n",
    "import pandas as pd\n",
    "import numpy as np\n",
    "import warnings\n",
    "warnings.filterwarnings('ignore')\n",
    "\n",
    "print(\"Libraries imported successfully!\")"
   ]
  },
  {
   "cell_type": "code",
   "execution_count": null,
   "id": "d5114097",
   "metadata": {},
   "outputs": [],
   "source": [
    "# Load the datasets\n",
    "arrests_2009 = pd.read_csv(r'D:\\JAVA\\CODE\\PYTHON\\ML\\ca_arrests_2009.csv')\n",
    "arrests_2018 = pd.read_csv(r'D:\\JAVA\\CODE\\PYTHON\\ML\\ca_arrests_2018.csv')\n",
    "populations = pd.read_csv(r'D:\\JAVA\\CODE\\PYTHON\\ML\\nhgis_county_populations.csv')\n",
    "\n",
    "print(\"Data loaded successfully!\")\n",
    "print(f\"2009 arrests data shape: {arrests_2009.shape}\")\n",
    "print(f\"2018 arrests data shape: {arrests_2018.shape}\")\n",
    "print(f\"Population data shape: {populations.shape}\")\n",
    "\n",
    "# Display first few rows to understand the data structure\n",
    "print(\"\\n2009 Arrests Data Sample:\")\n",
    "print(arrests_2009.head())\n",
    "\n",
    "print(\"\\n2018 Arrests Data Sample:\")\n",
    "print(arrests_2018.head())\n",
    "\n",
    "print(\"\\nPopulation Data Sample:\")\n",
    "print(populations.head())"
   ]
  },
  {
   "cell_type": "code",
   "execution_count": null,
   "id": "9054dfc9",
   "metadata": {},
   "outputs": [],
   "source": [
    "# Data preparation and filtering for California\n",
    "# Filter population data for California (2009 and 2018 periods)\n",
    "ca_pop_2009 = populations[(populations['STATE'] == 'California') & \n",
    "                         (populations['YEAR'] == '2005-2009')].copy()\n",
    "ca_pop_2018 = populations[(populations['STATE'] == 'California') & \n",
    "                         (populations['YEAR'] == '2014-2018')].copy()\n",
    "\n",
    "print(\"California population data filtered:\")\n",
    "print(f\"CA 2009 population data: {ca_pop_2009.shape}\")\n",
    "print(f\"CA 2018 population data: {ca_pop_2018.shape}\")\n",
    "\n",
    "# Clean county names for matching (remove 'County' suffix if present)\n",
    "arrests_2009['COUNTY_CLEAN'] = arrests_2009['COUNTY'].str.replace(' County', '').str.strip()\n",
    "arrests_2018['COUNTY_CLEAN'] = arrests_2018['COUNTY'].str.replace(' County', '').str.strip()\n",
    "ca_pop_2009['COUNTY_CLEAN'] = ca_pop_2009['COUNTY'].str.replace(' County', '').str.strip()\n",
    "ca_pop_2018['COUNTY_CLEAN'] = ca_pop_2018['COUNTY'].str.replace(' County', '').str.strip()\n",
    "\n",
    "print(\"\\nCounty names cleaned for matching\")\n",
    "print(\"Sample county names in arrests data:\", arrests_2009['COUNTY_CLEAN'].head().tolist())\n",
    "print(\"Sample county names in population data:\", ca_pop_2009['COUNTY_CLEAN'].head().tolist())"
   ]
  },
  {
   "cell_type": "code",
   "execution_count": null,
   "id": "d29a2748",
   "metadata": {},
   "outputs": [],
   "source": [
    "# Merge arrest data with population data\n",
    "# For 2009\n",
    "merged_2009 = arrests_2009.merge(ca_pop_2009[['COUNTY_CLEAN', 'total_population']], \n",
    "                                 on='COUNTY_CLEAN', how='inner')\n",
    "\n",
    "# For 2018\n",
    "merged_2018 = arrests_2018.merge(ca_pop_2018[['COUNTY_CLEAN', 'total_population']], \n",
    "                                 on='COUNTY_CLEAN', how='inner')\n",
    "\n",
    "print(\"Data merged successfully!\")\n",
    "print(f\"Merged 2009 data shape: {merged_2009.shape}\")\n",
    "print(f\"Merged 2018 data shape: {merged_2018.shape}\")\n",
    "\n",
    "# Calculate arrest rates per 1,000 population\n",
    "merged_2009['felony_drug_rate'] = (merged_2009['F_DRUGOFF'] / merged_2009['total_population']) * 1000\n",
    "merged_2009['violent_rate'] = (merged_2009['VIOLENT'] / merged_2009['total_population']) * 1000\n",
    "\n",
    "merged_2018['felony_drug_rate'] = (merged_2018['F_DRUGOFF'] / merged_2018['total_population']) * 1000\n",
    "merged_2018['violent_rate'] = (merged_2018['VIOLENT'] / merged_2018['total_population']) * 1000\n",
    "\n",
    "print(\"\\nArrest rates calculated (per 1,000 population)\")\n",
    "print(\"2009 sample rates:\")\n",
    "print(merged_2009[['COUNTY', 'felony_drug_rate', 'violent_rate']].head())\n",
    "\n",
    "print(\"\\n2018 sample rates:\")\n",
    "print(merged_2018[['COUNTY', 'felony_drug_rate', 'violent_rate']].head())"
   ]
  },
  {
   "cell_type": "markdown",
   "id": "18c4d315",
   "metadata": {},
   "source": [
    "## Question 1: Average County-Level Felony Drug Arrest Rate for 2009"
   ]
  },
  {
   "cell_type": "code",
   "execution_count": null,
   "id": "491eb326",
   "metadata": {},
   "outputs": [],
   "source": [
    "# Question 1: Average county-level felony drug arrest rate for 2009 (in arrests per 1,000)\n",
    "avg_felony_drug_2009 = merged_2009['felony_drug_rate'].mean()\n",
    "\n",
    "print(f\"Average felony drug arrest rate for 2009: {avg_felony_drug_2009}\")\n",
    "print(f\"Rounded to 3 significant figures: {avg_felony_drug_2009:.3g}\")\n",
    "\n",
    "# For verification, let's also show the distribution\n",
    "print(f\"\\nStatistics for 2009 felony drug arrest rates:\")\n",
    "print(f\"Mean: {avg_felony_drug_2009:.6f}\")\n",
    "print(f\"Median: {merged_2009['felony_drug_rate'].median():.6f}\")\n",
    "print(f\"Min: {merged_2009['felony_drug_rate'].min():.6f}\")\n",
    "print(f\"Max: {merged_2009['felony_drug_rate'].max():.6f}\")\n",
    "\n",
    "print(f\"\\n*** ANSWER TO QUESTION 1: {avg_felony_drug_2009:.3g} ***\")"
   ]
  },
  {
   "cell_type": "markdown",
   "id": "16fc1b6e",
   "metadata": {},
   "source": [
    "## Question 2: Average County-Level Felony Drug Arrest Rate for 2018"
   ]
  },
  {
   "cell_type": "code",
   "execution_count": null,
   "id": "070c3b5b",
   "metadata": {},
   "outputs": [],
   "source": [
    "# Question 2: Average county-level felony drug arrest rate for 2018 (in arrests per 1,000)\n",
    "avg_felony_drug_2018 = merged_2018['felony_drug_rate'].mean()\n",
    "\n",
    "print(f\"Average felony drug arrest rate for 2018: {avg_felony_drug_2018}\")\n",
    "print(f\"Rounded to 3 significant figures: {avg_felony_drug_2018:.3g}\")\n",
    "\n",
    "# For verification, let's also show the distribution\n",
    "print(f\"\\nStatistics for 2018 felony drug arrest rates:\")\n",
    "print(f\"Mean: {avg_felony_drug_2018:.6f}\")\n",
    "print(f\"Median: {merged_2018['felony_drug_rate'].median():.6f}\")\n",
    "print(f\"Min: {merged_2018['felony_drug_rate'].min():.6f}\")\n",
    "print(f\"Max: {merged_2018['felony_drug_rate'].max():.6f}\")\n",
    "\n",
    "print(f\"\\n*** ANSWER TO QUESTION 2: {avg_felony_drug_2018:.3g} ***\")"
   ]
  },
  {
   "cell_type": "markdown",
   "id": "953959ee",
   "metadata": {},
   "source": [
    "## Questions 3 & 4: Percentage Changes in Arrest Rates (2009 to 2018)"
   ]
  },
  {
   "cell_type": "code",
   "execution_count": null,
   "id": "cbeeb847",
   "metadata": {},
   "outputs": [],
   "source": [
    "# Merge 2009 and 2018 data for percentage change calculations\n",
    "change_data = merged_2009[['COUNTY_CLEAN', 'felony_drug_rate', 'violent_rate']].merge(\n",
    "    merged_2018[['COUNTY_CLEAN', 'felony_drug_rate', 'violent_rate']], \n",
    "    on='COUNTY_CLEAN', \n",
    "    suffixes=('_2009', '_2018'),\n",
    "    how='inner'\n",
    ")\n",
    "\n",
    "print(f\"Counties with data for both years: {len(change_data)}\")\n",
    "\n",
    "# Calculate percentage changes\n",
    "change_data['felony_drug_pct_change'] = ((change_data['felony_drug_rate_2018'] - change_data['felony_drug_rate_2009']) / \n",
    "                                        change_data['felony_drug_rate_2009']) * 100\n",
    "\n",
    "change_data['violent_pct_change'] = ((change_data['violent_rate_2018'] - change_data['violent_rate_2009']) / \n",
    "                                    change_data['violent_rate_2009']) * 100\n",
    "\n",
    "print(\"\\nPercentage changes calculated\")\n",
    "print(change_data[['COUNTY_CLEAN', 'felony_drug_pct_change', 'violent_pct_change']].head())"
   ]
  },
  {
   "cell_type": "code",
   "execution_count": null,
   "id": "d834dc93",
   "metadata": {},
   "outputs": [],
   "source": [
    "# Question 3: Average percentage change in felony drug arrest rate between 2009 and 2018\n",
    "avg_felony_drug_change = change_data['felony_drug_pct_change'].mean()\n",
    "\n",
    "print(f\"Average percentage change in felony drug arrest rate (2009-2018): {avg_felony_drug_change}\")\n",
    "print(f\"Rounded to 3 significant figures: {avg_felony_drug_change:.3g}%\")\n",
    "\n",
    "print(f\"\\nStatistics for felony drug arrest rate changes:\")\n",
    "print(f\"Mean: {avg_felony_drug_change:.6f}%\")\n",
    "print(f\"Median: {change_data['felony_drug_pct_change'].median():.6f}%\")\n",
    "print(f\"Min: {change_data['felony_drug_pct_change'].min():.6f}%\")\n",
    "print(f\"Max: {change_data['felony_drug_pct_change'].max():.6f}%\")\n",
    "\n",
    "print(f\"\\n*** ANSWER TO QUESTION 3: {avg_felony_drug_change:.3g} ***\")"
   ]
  },
  {
   "cell_type": "code",
   "execution_count": null,
   "id": "a35ec0ba",
   "metadata": {},
   "outputs": [],
   "source": [
    "# Question 4: Average percentage change in violent crime arrest rate between 2009 and 2018\n",
    "avg_violent_change = change_data['violent_pct_change'].mean()\n",
    "\n",
    "print(f\"Average percentage change in violent arrest rate (2009-2018): {avg_violent_change}\")\n",
    "print(f\"Rounded to 3 significant figures: {avg_violent_change:.3g}%\")\n",
    "\n",
    "print(f\"\\nStatistics for violent arrest rate changes:\")\n",
    "print(f\"Mean: {avg_violent_change:.6f}%\")\n",
    "print(f\"Median: {change_data['violent_pct_change'].median():.6f}%\")\n",
    "print(f\"Min: {change_data['violent_pct_change'].min():.6f}%\")\n",
    "print(f\"Max: {change_data['violent_pct_change'].max():.6f}%\")\n",
    "\n",
    "print(f\"\\n*** ANSWER TO QUESTION 4: {avg_violent_change:.3g} ***\")"
   ]
  },
  {
   "cell_type": "markdown",
   "id": "233b7b9d",
   "metadata": {},
   "source": [
    "## Questions 5-7: Difference-in-Difference Analysis\n",
    "For these questions, we need to classify counties into \"high\" and \"low\" 2009 drug arrest rate groups and analyze the difference in violent crime changes between these groups."
   ]
  },
  {
   "cell_type": "code",
   "execution_count": null,
   "id": "0f23adda",
   "metadata": {},
   "outputs": [],
   "source": [
    "# Difference-in-Difference Analysis Setup\n",
    "# Classify counties into high and low 2009 drug arrest rate groups\n",
    "\n",
    "# Calculate median drug arrest rate for 2009 to split groups\n",
    "median_drug_2009 = change_data['felony_drug_rate_2009'].median()\n",
    "\n",
    "print(f\"Median felony drug arrest rate in 2009: {median_drug_2009:.3f}\")\n",
    "\n",
    "# Create high/low groups based on median split\n",
    "change_data['drug_group'] = change_data['felony_drug_rate_2009'].apply(\n",
    "    lambda x: 'high' if x >= median_drug_2009 else 'low'\n",
    ")\n",
    "\n",
    "# Count counties in each group\n",
    "group_counts = change_data['drug_group'].value_counts()\n",
    "print(f\"\\nGroup distribution:\")\n",
    "print(f\"Low 2009 drug arrest rate counties: {group_counts['low']}\")\n",
    "print(f\"High 2009 drug arrest rate counties: {group_counts['high']}\")\n",
    "\n",
    "# Show some examples\n",
    "print(f\"\\nSample of low drug arrest rate counties (2009):\")\n",
    "low_sample = change_data[change_data['drug_group'] == 'low'][['COUNTY_CLEAN', 'felony_drug_rate_2009']].head()\n",
    "print(low_sample)\n",
    "\n",
    "print(f\"\\nSample of high drug arrest rate counties (2009):\")\n",
    "high_sample = change_data[change_data['drug_group'] == 'high'][['COUNTY_CLEAN', 'felony_drug_rate_2009']].head()\n",
    "print(high_sample)"
   ]
  },
  {
   "cell_type": "code",
   "execution_count": null,
   "id": "86279634",
   "metadata": {},
   "outputs": [],
   "source": [
    "# Question 5: Percentage change in violent arrest rates for LOW 2009 drug arrest rates\n",
    "low_violent_change = change_data[change_data['drug_group'] == 'low']['violent_pct_change'].mean()\n",
    "\n",
    "print(f\"Average violent arrest rate change for LOW 2009 drug counties: {low_violent_change}\")\n",
    "print(f\"Rounded to 3 significant figures: {low_violent_change:.3g}%\")\n",
    "\n",
    "print(f\"\\n*** ANSWER TO QUESTION 5: {low_violent_change:.3g} ***\")\n",
    "\n",
    "# Question 6: Percentage change in violent arrest rates for HIGH 2009 drug arrest rates\n",
    "high_violent_change = change_data[change_data['drug_group'] == 'high']['violent_pct_change'].mean()\n",
    "\n",
    "print(f\"\\nAverage violent arrest rate change for HIGH 2009 drug counties: {high_violent_change}\")\n",
    "print(f\"Rounded to 3 significant figures: {high_violent_change:.3g}%\")\n",
    "\n",
    "print(f\"\\n*** ANSWER TO QUESTION 6: {high_violent_change:.3g} ***\")\n",
    "\n",
    "# Show detailed statistics for verification\n",
    "print(f\"\\nDetailed statistics:\")\n",
    "print(f\"Low drug group violent change - Mean: {low_violent_change:.6f}%, Count: {len(change_data[change_data['drug_group'] == 'low'])}\")\n",
    "print(f\"High drug group violent change - Mean: {high_violent_change:.6f}%, Count: {len(change_data[change_data['drug_group'] == 'high'])}\")"
   ]
  },
  {
   "cell_type": "code",
   "execution_count": null,
   "id": "9c404640",
   "metadata": {},
   "outputs": [],
   "source": [
    "# Question 7: Difference-in-Difference estimate\n",
    "# The DiD estimate is the difference between the high and low groups' violent crime changes\n",
    "did_estimate = high_violent_change - low_violent_change\n",
    "\n",
    "print(f\"Difference-in-Difference Calculation:\")\n",
    "print(f\"High drug group violent change: {high_violent_change:.6f}%\")\n",
    "print(f\"Low drug group violent change: {low_violent_change:.6f}%\")\n",
    "print(f\"Difference (High - Low): {did_estimate:.6f}%\")\n",
    "print(f\"Rounded to 3 significant figures: {did_estimate:.3g}%\")\n",
    "\n",
    "print(f\"\\n*** ANSWER TO QUESTION 7: {did_estimate:.3g} ***\")\n",
    "\n",
    "# Summary of all answers\n",
    "print(\"\\n\" + \"=\"*50)\n",
    "print(\"SUMMARY OF ALL ANSWERS\")\n",
    "print(\"=\"*50)\n",
    "print(f\"Question 1 - Average felony drug arrest rate 2009: {avg_felony_drug_2009:.3g}\")\n",
    "print(f\"Question 2 - Average felony drug arrest rate 2018: {avg_felony_drug_2018:.3g}\")\n",
    "print(f\"Question 3 - Average % change in felony drug arrests: {avg_felony_drug_change:.3g}\")\n",
    "print(f\"Question 4 - Average % change in violent arrests: {avg_violent_change:.3g}\")\n",
    "print(f\"Question 5 - Violent change for low drug counties: {low_violent_change:.3g}\")\n",
    "print(f\"Question 6 - Violent change for high drug counties: {high_violent_change:.3g}\")\n",
    "print(f\"Question 7 - Difference-in-Difference estimate: {did_estimate:.3g}\")\n",
    "print(\"=\"*50)"
   ]
  }
 ],
 "metadata": {
  "language_info": {
   "name": "python"
  }
 },
 "nbformat": 4,
 "nbformat_minor": 5
}
