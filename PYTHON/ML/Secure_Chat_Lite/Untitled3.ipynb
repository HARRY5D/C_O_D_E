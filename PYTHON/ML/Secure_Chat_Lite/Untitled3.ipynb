{
  "nbformat": 4,
  "nbformat_minor": 0,
  "metadata": {
    "colab": {
      "provenance": []
    },
    "kernelspec": {
      "name": "python3",
      "display_name": "Python 3"
    },
    "language_info": {
      "name": "python"
    },
    "widgets": {
      "application/vnd.jupyter.widget-state+json": {
        "9ceff831dbb24c02baa169982d7cc370": {
          "model_module": "@jupyter-widgets/controls",
          "model_name": "HBoxModel",
          "model_module_version": "1.5.0",
          "state": {
            "_dom_classes": [],
            "_model_module": "@jupyter-widgets/controls",
            "_model_module_version": "1.5.0",
            "_model_name": "HBoxModel",
            "_view_count": null,
            "_view_module": "@jupyter-widgets/controls",
            "_view_module_version": "1.5.0",
            "_view_name": "HBoxView",
            "box_style": "",
            "children": [
              "IPY_MODEL_f21106cbe2b7492088736c1cc1c2057f",
              "IPY_MODEL_1fd33231f16242ffa9cd3e990f7bbcac",
              "IPY_MODEL_8fd17db425804047b2eb8d5361327221"
            ],
            "layout": "IPY_MODEL_1a60906215be4120b5bc70fe238d43d2"
          }
        },
        "f21106cbe2b7492088736c1cc1c2057f": {
          "model_module": "@jupyter-widgets/controls",
          "model_name": "HTMLModel",
          "model_module_version": "1.5.0",
          "state": {
            "_dom_classes": [],
            "_model_module": "@jupyter-widgets/controls",
            "_model_module_version": "1.5.0",
            "_model_name": "HTMLModel",
            "_view_count": null,
            "_view_module": "@jupyter-widgets/controls",
            "_view_module_version": "1.5.0",
            "_view_name": "HTMLView",
            "description": "",
            "description_tooltip": null,
            "layout": "IPY_MODEL_31ea71dd6dcb49e79e48b33f8996ff55",
            "placeholder": "​",
            "style": "IPY_MODEL_7b70b1f3ab05425993d75d6fef4e87d3",
            "value": "pytorch_model.bin: 100%"
          }
        },
        "1fd33231f16242ffa9cd3e990f7bbcac": {
          "model_module": "@jupyter-widgets/controls",
          "model_name": "FloatProgressModel",
          "model_module_version": "1.5.0",
          "state": {
            "_dom_classes": [],
            "_model_module": "@jupyter-widgets/controls",
            "_model_module_version": "1.5.0",
            "_model_name": "FloatProgressModel",
            "_view_count": null,
            "_view_module": "@jupyter-widgets/controls",
            "_view_module_version": "1.5.0",
            "_view_name": "ProgressView",
            "bar_style": "success",
            "description": "",
            "description_tooltip": null,
            "layout": "IPY_MODEL_c9962e8a3c8b485b8caeaed884c3faaf",
            "max": 62747391,
            "min": 0,
            "orientation": "horizontal",
            "style": "IPY_MODEL_e73cf51d467d45ff964047bbae688832",
            "value": 62747391
          }
        },
        "8fd17db425804047b2eb8d5361327221": {
          "model_module": "@jupyter-widgets/controls",
          "model_name": "HTMLModel",
          "model_module_version": "1.5.0",
          "state": {
            "_dom_classes": [],
            "_model_module": "@jupyter-widgets/controls",
            "_model_module_version": "1.5.0",
            "_model_name": "HTMLModel",
            "_view_count": null,
            "_view_module": "@jupyter-widgets/controls",
            "_view_module_version": "1.5.0",
            "_view_name": "HTMLView",
            "description": "",
            "description_tooltip": null,
            "layout": "IPY_MODEL_57d4b920cb774453b26536de53a06c4e",
            "placeholder": "​",
            "style": "IPY_MODEL_015112d4faaf455cb2fb6081c74fb6c7",
            "value": " 62.7M/62.7M [00:00&lt;00:00, 149MB/s]"
          }
        },
        "1a60906215be4120b5bc70fe238d43d2": {
          "model_module": "@jupyter-widgets/base",
          "model_name": "LayoutModel",
          "model_module_version": "1.2.0",
          "state": {
            "_model_module": "@jupyter-widgets/base",
            "_model_module_version": "1.2.0",
            "_model_name": "LayoutModel",
            "_view_count": null,
            "_view_module": "@jupyter-widgets/base",
            "_view_module_version": "1.2.0",
            "_view_name": "LayoutView",
            "align_content": null,
            "align_items": null,
            "align_self": null,
            "border": null,
            "bottom": null,
            "display": null,
            "flex": null,
            "flex_flow": null,
            "grid_area": null,
            "grid_auto_columns": null,
            "grid_auto_flow": null,
            "grid_auto_rows": null,
            "grid_column": null,
            "grid_gap": null,
            "grid_row": null,
            "grid_template_areas": null,
            "grid_template_columns": null,
            "grid_template_rows": null,
            "height": null,
            "justify_content": null,
            "justify_items": null,
            "left": null,
            "margin": null,
            "max_height": null,
            "max_width": null,
            "min_height": null,
            "min_width": null,
            "object_fit": null,
            "object_position": null,
            "order": null,
            "overflow": null,
            "overflow_x": null,
            "overflow_y": null,
            "padding": null,
            "right": null,
            "top": null,
            "visibility": null,
            "width": null
          }
        },
        "31ea71dd6dcb49e79e48b33f8996ff55": {
          "model_module": "@jupyter-widgets/base",
          "model_name": "LayoutModel",
          "model_module_version": "1.2.0",
          "state": {
            "_model_module": "@jupyter-widgets/base",
            "_model_module_version": "1.2.0",
            "_model_name": "LayoutModel",
            "_view_count": null,
            "_view_module": "@jupyter-widgets/base",
            "_view_module_version": "1.2.0",
            "_view_name": "LayoutView",
            "align_content": null,
            "align_items": null,
            "align_self": null,
            "border": null,
            "bottom": null,
            "display": null,
            "flex": null,
            "flex_flow": null,
            "grid_area": null,
            "grid_auto_columns": null,
            "grid_auto_flow": null,
            "grid_auto_rows": null,
            "grid_column": null,
            "grid_gap": null,
            "grid_row": null,
            "grid_template_areas": null,
            "grid_template_columns": null,
            "grid_template_rows": null,
            "height": null,
            "justify_content": null,
            "justify_items": null,
            "left": null,
            "margin": null,
            "max_height": null,
            "max_width": null,
            "min_height": null,
            "min_width": null,
            "object_fit": null,
            "object_position": null,
            "order": null,
            "overflow": null,
            "overflow_x": null,
            "overflow_y": null,
            "padding": null,
            "right": null,
            "top": null,
            "visibility": null,
            "width": null
          }
        },
        "7b70b1f3ab05425993d75d6fef4e87d3": {
          "model_module": "@jupyter-widgets/controls",
          "model_name": "DescriptionStyleModel",
          "model_module_version": "1.5.0",
          "state": {
            "_model_module": "@jupyter-widgets/controls",
            "_model_module_version": "1.5.0",
            "_model_name": "DescriptionStyleModel",
            "_view_count": null,
            "_view_module": "@jupyter-widgets/base",
            "_view_module_version": "1.2.0",
            "_view_name": "StyleView",
            "description_width": ""
          }
        },
        "c9962e8a3c8b485b8caeaed884c3faaf": {
          "model_module": "@jupyter-widgets/base",
          "model_name": "LayoutModel",
          "model_module_version": "1.2.0",
          "state": {
            "_model_module": "@jupyter-widgets/base",
            "_model_module_version": "1.2.0",
            "_model_name": "LayoutModel",
            "_view_count": null,
            "_view_module": "@jupyter-widgets/base",
            "_view_module_version": "1.2.0",
            "_view_name": "LayoutView",
            "align_content": null,
            "align_items": null,
            "align_self": null,
            "border": null,
            "bottom": null,
            "display": null,
            "flex": null,
            "flex_flow": null,
            "grid_area": null,
            "grid_auto_columns": null,
            "grid_auto_flow": null,
            "grid_auto_rows": null,
            "grid_column": null,
            "grid_gap": null,
            "grid_row": null,
            "grid_template_areas": null,
            "grid_template_columns": null,
            "grid_template_rows": null,
            "height": null,
            "justify_content": null,
            "justify_items": null,
            "left": null,
            "margin": null,
            "max_height": null,
            "max_width": null,
            "min_height": null,
            "min_width": null,
            "object_fit": null,
            "object_position": null,
            "order": null,
            "overflow": null,
            "overflow_x": null,
            "overflow_y": null,
            "padding": null,
            "right": null,
            "top": null,
            "visibility": null,
            "width": null
          }
        },
        "e73cf51d467d45ff964047bbae688832": {
          "model_module": "@jupyter-widgets/controls",
          "model_name": "ProgressStyleModel",
          "model_module_version": "1.5.0",
          "state": {
            "_model_module": "@jupyter-widgets/controls",
            "_model_module_version": "1.5.0",
            "_model_name": "ProgressStyleModel",
            "_view_count": null,
            "_view_module": "@jupyter-widgets/base",
            "_view_module_version": "1.2.0",
            "_view_name": "StyleView",
            "bar_color": null,
            "description_width": ""
          }
        },
        "57d4b920cb774453b26536de53a06c4e": {
          "model_module": "@jupyter-widgets/base",
          "model_name": "LayoutModel",
          "model_module_version": "1.2.0",
          "state": {
            "_model_module": "@jupyter-widgets/base",
            "_model_module_version": "1.2.0",
            "_model_name": "LayoutModel",
            "_view_count": null,
            "_view_module": "@jupyter-widgets/base",
            "_view_module_version": "1.2.0",
            "_view_name": "LayoutView",
            "align_content": null,
            "align_items": null,
            "align_self": null,
            "border": null,
            "bottom": null,
            "display": null,
            "flex": null,
            "flex_flow": null,
            "grid_area": null,
            "grid_auto_columns": null,
            "grid_auto_flow": null,
            "grid_auto_rows": null,
            "grid_column": null,
            "grid_gap": null,
            "grid_row": null,
            "grid_template_areas": null,
            "grid_template_columns": null,
            "grid_template_rows": null,
            "height": null,
            "justify_content": null,
            "justify_items": null,
            "left": null,
            "margin": null,
            "max_height": null,
            "max_width": null,
            "min_height": null,
            "min_width": null,
            "object_fit": null,
            "object_position": null,
            "order": null,
            "overflow": null,
            "overflow_x": null,
            "overflow_y": null,
            "padding": null,
            "right": null,
            "top": null,
            "visibility": null,
            "width": null
          }
        },
        "015112d4faaf455cb2fb6081c74fb6c7": {
          "model_module": "@jupyter-widgets/controls",
          "model_name": "DescriptionStyleModel",
          "model_module_version": "1.5.0",
          "state": {
            "_model_module": "@jupyter-widgets/controls",
            "_model_module_version": "1.5.0",
            "_model_name": "DescriptionStyleModel",
            "_view_count": null,
            "_view_module": "@jupyter-widgets/base",
            "_view_module_version": "1.2.0",
            "_view_name": "StyleView",
            "description_width": ""
          }
        },
        "a94ccf8193464a58acdcc1b2a301d5ba": {
          "model_module": "@jupyter-widgets/controls",
          "model_name": "HBoxModel",
          "model_module_version": "1.5.0",
          "state": {
            "_dom_classes": [],
            "_model_module": "@jupyter-widgets/controls",
            "_model_module_version": "1.5.0",
            "_model_name": "HBoxModel",
            "_view_count": null,
            "_view_module": "@jupyter-widgets/controls",
            "_view_module_version": "1.5.0",
            "_view_name": "HBoxView",
            "box_style": "",
            "children": [
              "IPY_MODEL_4869a7ad0ae74f3693f4c856ab633ccb",
              "IPY_MODEL_6c032d76814f4649a737c3e5e2ac112d",
              "IPY_MODEL_fa230a7365a24e51a22cf4e5d9e8459f"
            ],
            "layout": "IPY_MODEL_69bf68227fd9411b8b28eb88e269afbd"
          }
        },
        "4869a7ad0ae74f3693f4c856ab633ccb": {
          "model_module": "@jupyter-widgets/controls",
          "model_name": "HTMLModel",
          "model_module_version": "1.5.0",
          "state": {
            "_dom_classes": [],
            "_model_module": "@jupyter-widgets/controls",
            "_model_module_version": "1.5.0",
            "_model_name": "HTMLModel",
            "_view_count": null,
            "_view_module": "@jupyter-widgets/controls",
            "_view_module_version": "1.5.0",
            "_view_name": "HTMLView",
            "description": "",
            "description_tooltip": null,
            "layout": "IPY_MODEL_edc0fe3b24ff48e29f3cc652c759cefd",
            "placeholder": "​",
            "style": "IPY_MODEL_da21f8aeb80243f9a9ba3f85110d6ed8",
            "value": "Map: 100%"
          }
        },
        "6c032d76814f4649a737c3e5e2ac112d": {
          "model_module": "@jupyter-widgets/controls",
          "model_name": "FloatProgressModel",
          "model_module_version": "1.5.0",
          "state": {
            "_dom_classes": [],
            "_model_module": "@jupyter-widgets/controls",
            "_model_module_version": "1.5.0",
            "_model_name": "FloatProgressModel",
            "_view_count": null,
            "_view_module": "@jupyter-widgets/controls",
            "_view_module_version": "1.5.0",
            "_view_name": "ProgressView",
            "bar_style": "success",
            "description": "",
            "description_tooltip": null,
            "layout": "IPY_MODEL_fbdea1b229c64522bf59ed7a001ddf1e",
            "max": 5574,
            "min": 0,
            "orientation": "horizontal",
            "style": "IPY_MODEL_4158d323035247b7a0ffcb4ddf7b8695",
            "value": 5574
          }
        },
        "fa230a7365a24e51a22cf4e5d9e8459f": {
          "model_module": "@jupyter-widgets/controls",
          "model_name": "HTMLModel",
          "model_module_version": "1.5.0",
          "state": {
            "_dom_classes": [],
            "_model_module": "@jupyter-widgets/controls",
            "_model_module_version": "1.5.0",
            "_model_name": "HTMLModel",
            "_view_count": null,
            "_view_module": "@jupyter-widgets/controls",
            "_view_module_version": "1.5.0",
            "_view_name": "HTMLView",
            "description": "",
            "description_tooltip": null,
            "layout": "IPY_MODEL_6ea125d511bb433cb5994cfb94f2becb",
            "placeholder": "​",
            "style": "IPY_MODEL_6c1bc98240e64582b55c0d3f498f409c",
            "value": " 5574/5574 [00:01&lt;00:00, 3702.99 examples/s]"
          }
        },
        "69bf68227fd9411b8b28eb88e269afbd": {
          "model_module": "@jupyter-widgets/base",
          "model_name": "LayoutModel",
          "model_module_version": "1.2.0",
          "state": {
            "_model_module": "@jupyter-widgets/base",
            "_model_module_version": "1.2.0",
            "_model_name": "LayoutModel",
            "_view_count": null,
            "_view_module": "@jupyter-widgets/base",
            "_view_module_version": "1.2.0",
            "_view_name": "LayoutView",
            "align_content": null,
            "align_items": null,
            "align_self": null,
            "border": null,
            "bottom": null,
            "display": null,
            "flex": null,
            "flex_flow": null,
            "grid_area": null,
            "grid_auto_columns": null,
            "grid_auto_flow": null,
            "grid_auto_rows": null,
            "grid_column": null,
            "grid_gap": null,
            "grid_row": null,
            "grid_template_areas": null,
            "grid_template_columns": null,
            "grid_template_rows": null,
            "height": null,
            "justify_content": null,
            "justify_items": null,
            "left": null,
            "margin": null,
            "max_height": null,
            "max_width": null,
            "min_height": null,
            "min_width": null,
            "object_fit": null,
            "object_position": null,
            "order": null,
            "overflow": null,
            "overflow_x": null,
            "overflow_y": null,
            "padding": null,
            "right": null,
            "top": null,
            "visibility": null,
            "width": null
          }
        },
        "edc0fe3b24ff48e29f3cc652c759cefd": {
          "model_module": "@jupyter-widgets/base",
          "model_name": "LayoutModel",
          "model_module_version": "1.2.0",
          "state": {
            "_model_module": "@jupyter-widgets/base",
            "_model_module_version": "1.2.0",
            "_model_name": "LayoutModel",
            "_view_count": null,
            "_view_module": "@jupyter-widgets/base",
            "_view_module_version": "1.2.0",
            "_view_name": "LayoutView",
            "align_content": null,
            "align_items": null,
            "align_self": null,
            "border": null,
            "bottom": null,
            "display": null,
            "flex": null,
            "flex_flow": null,
            "grid_area": null,
            "grid_auto_columns": null,
            "grid_auto_flow": null,
            "grid_auto_rows": null,
            "grid_column": null,
            "grid_gap": null,
            "grid_row": null,
            "grid_template_areas": null,
            "grid_template_columns": null,
            "grid_template_rows": null,
            "height": null,
            "justify_content": null,
            "justify_items": null,
            "left": null,
            "margin": null,
            "max_height": null,
            "max_width": null,
            "min_height": null,
            "min_width": null,
            "object_fit": null,
            "object_position": null,
            "order": null,
            "overflow": null,
            "overflow_x": null,
            "overflow_y": null,
            "padding": null,
            "right": null,
            "top": null,
            "visibility": null,
            "width": null
          }
        },
        "da21f8aeb80243f9a9ba3f85110d6ed8": {
          "model_module": "@jupyter-widgets/controls",
          "model_name": "DescriptionStyleModel",
          "model_module_version": "1.5.0",
          "state": {
            "_model_module": "@jupyter-widgets/controls",
            "_model_module_version": "1.5.0",
            "_model_name": "DescriptionStyleModel",
            "_view_count": null,
            "_view_module": "@jupyter-widgets/base",
            "_view_module_version": "1.2.0",
            "_view_name": "StyleView",
            "description_width": ""
          }
        },
        "fbdea1b229c64522bf59ed7a001ddf1e": {
          "model_module": "@jupyter-widgets/base",
          "model_name": "LayoutModel",
          "model_module_version": "1.2.0",
          "state": {
            "_model_module": "@jupyter-widgets/base",
            "_model_module_version": "1.2.0",
            "_model_name": "LayoutModel",
            "_view_count": null,
            "_view_module": "@jupyter-widgets/base",
            "_view_module_version": "1.2.0",
            "_view_name": "LayoutView",
            "align_content": null,
            "align_items": null,
            "align_self": null,
            "border": null,
            "bottom": null,
            "display": null,
            "flex": null,
            "flex_flow": null,
            "grid_area": null,
            "grid_auto_columns": null,
            "grid_auto_flow": null,
            "grid_auto_rows": null,
            "grid_column": null,
            "grid_gap": null,
            "grid_row": null,
            "grid_template_areas": null,
            "grid_template_columns": null,
            "grid_template_rows": null,
            "height": null,
            "justify_content": null,
            "justify_items": null,
            "left": null,
            "margin": null,
            "max_height": null,
            "max_width": null,
            "min_height": null,
            "min_width": null,
            "object_fit": null,
            "object_position": null,
            "order": null,
            "overflow": null,
            "overflow_x": null,
            "overflow_y": null,
            "padding": null,
            "right": null,
            "top": null,
            "visibility": null,
            "width": null
          }
        },
        "4158d323035247b7a0ffcb4ddf7b8695": {
          "model_module": "@jupyter-widgets/controls",
          "model_name": "ProgressStyleModel",
          "model_module_version": "1.5.0",
          "state": {
            "_model_module": "@jupyter-widgets/controls",
            "_model_module_version": "1.5.0",
            "_model_name": "ProgressStyleModel",
            "_view_count": null,
            "_view_module": "@jupyter-widgets/base",
            "_view_module_version": "1.2.0",
            "_view_name": "StyleView",
            "bar_color": null,
            "description_width": ""
          }
        },
        "6ea125d511bb433cb5994cfb94f2becb": {
          "model_module": "@jupyter-widgets/base",
          "model_name": "LayoutModel",
          "model_module_version": "1.2.0",
          "state": {
            "_model_module": "@jupyter-widgets/base",
            "_model_module_version": "1.2.0",
            "_model_name": "LayoutModel",
            "_view_count": null,
            "_view_module": "@jupyter-widgets/base",
            "_view_module_version": "1.2.0",
            "_view_name": "LayoutView",
            "align_content": null,
            "align_items": null,
            "align_self": null,
            "border": null,
            "bottom": null,
            "display": null,
            "flex": null,
            "flex_flow": null,
            "grid_area": null,
            "grid_auto_columns": null,
            "grid_auto_flow": null,
            "grid_auto_rows": null,
            "grid_column": null,
            "grid_gap": null,
            "grid_row": null,
            "grid_template_areas": null,
            "grid_template_columns": null,
            "grid_template_rows": null,
            "height": null,
            "justify_content": null,
            "justify_items": null,
            "left": null,
            "margin": null,
            "max_height": null,
            "max_width": null,
            "min_height": null,
            "min_width": null,
            "object_fit": null,
            "object_position": null,
            "order": null,
            "overflow": null,
            "overflow_x": null,
            "overflow_y": null,
            "padding": null,
            "right": null,
            "top": null,
            "visibility": null,
            "width": null
          }
        },
        "6c1bc98240e64582b55c0d3f498f409c": {
          "model_module": "@jupyter-widgets/controls",
          "model_name": "DescriptionStyleModel",
          "model_module_version": "1.5.0",
          "state": {
            "_model_module": "@jupyter-widgets/controls",
            "_model_module_version": "1.5.0",
            "_model_name": "DescriptionStyleModel",
            "_view_count": null,
            "_view_module": "@jupyter-widgets/base",
            "_view_module_version": "1.2.0",
            "_view_name": "StyleView",
            "description_width": ""
          }
        }
      }
    }
  },
  "cells": [
    {
      "cell_type": "code",
      "execution_count": null,
      "metadata": {
        "id": "390Xan366VMO"
      },
      "outputs": [],
      "source": []
    },
    {
      "cell_type": "markdown",
      "metadata": {
        "id": "cbdb1899"
      },
      "source": [
        "# Task\n",
        "Train TinyBERT on a phishing/smishing dataset for binary classification (safe vs suspicious), evaluate its accuracy, and convert the trained model to a quantized .tflite model for Android on-device inference."
      ]
    },
    {
      "cell_type": "markdown",
      "metadata": {
        "id": "68df0eae"
      },
      "source": [
        "## Setup environment\n",
        "\n",
        "### Subtask:\n",
        "Install necessary libraries (transformers, datasets, tensorflow).\n"
      ]
    },
    {
      "cell_type": "markdown",
      "metadata": {
        "id": "4051dd60"
      },
      "source": [
        "**Reasoning**:\n",
        "Install the necessary libraries using pip.\n",
        "\n"
      ]
    },
    {
      "cell_type": "code",
      "metadata": {
        "colab": {
          "base_uri": "https://localhost:8080/"
        },
        "id": "178ae3eb",
        "outputId": "2b65e8d4-6e70-488d-c344-512ebd8a81a7"
      },
      "source": [
        "%pip install transformers datasets tensorflow"
      ],
      "execution_count": 1,
      "outputs": [
        {
          "output_type": "stream",
          "name": "stdout",
          "text": [
            "Requirement already satisfied: transformers in /usr/local/lib/python3.11/dist-packages (4.54.1)\n",
            "Requirement already satisfied: datasets in /usr/local/lib/python3.11/dist-packages (4.0.0)\n",
            "Requirement already satisfied: tensorflow in /usr/local/lib/python3.11/dist-packages (2.19.0)\n",
            "Requirement already satisfied: filelock in /usr/local/lib/python3.11/dist-packages (from transformers) (3.18.0)\n",
            "Requirement already satisfied: huggingface-hub<1.0,>=0.34.0 in /usr/local/lib/python3.11/dist-packages (from transformers) (0.34.3)\n",
            "Requirement already satisfied: numpy>=1.17 in /usr/local/lib/python3.11/dist-packages (from transformers) (2.0.2)\n",
            "Requirement already satisfied: packaging>=20.0 in /usr/local/lib/python3.11/dist-packages (from transformers) (25.0)\n",
            "Requirement already satisfied: pyyaml>=5.1 in /usr/local/lib/python3.11/dist-packages (from transformers) (6.0.2)\n",
            "Requirement already satisfied: regex!=2019.12.17 in /usr/local/lib/python3.11/dist-packages (from transformers) (2024.11.6)\n",
            "Requirement already satisfied: requests in /usr/local/lib/python3.11/dist-packages (from transformers) (2.32.3)\n",
            "Requirement already satisfied: tokenizers<0.22,>=0.21 in /usr/local/lib/python3.11/dist-packages (from transformers) (0.21.4)\n",
            "Requirement already satisfied: safetensors>=0.4.3 in /usr/local/lib/python3.11/dist-packages (from transformers) (0.5.3)\n",
            "Requirement already satisfied: tqdm>=4.27 in /usr/local/lib/python3.11/dist-packages (from transformers) (4.67.1)\n",
            "Requirement already satisfied: pyarrow>=15.0.0 in /usr/local/lib/python3.11/dist-packages (from datasets) (18.1.0)\n",
            "Requirement already satisfied: dill<0.3.9,>=0.3.0 in /usr/local/lib/python3.11/dist-packages (from datasets) (0.3.8)\n",
            "Requirement already satisfied: pandas in /usr/local/lib/python3.11/dist-packages (from datasets) (2.2.2)\n",
            "Requirement already satisfied: xxhash in /usr/local/lib/python3.11/dist-packages (from datasets) (3.5.0)\n",
            "Requirement already satisfied: multiprocess<0.70.17 in /usr/local/lib/python3.11/dist-packages (from datasets) (0.70.16)\n",
            "Requirement already satisfied: fsspec<=2025.3.0,>=2023.1.0 in /usr/local/lib/python3.11/dist-packages (from fsspec[http]<=2025.3.0,>=2023.1.0->datasets) (2025.3.0)\n",
            "Requirement already satisfied: absl-py>=1.0.0 in /usr/local/lib/python3.11/dist-packages (from tensorflow) (1.4.0)\n",
            "Requirement already satisfied: astunparse>=1.6.0 in /usr/local/lib/python3.11/dist-packages (from tensorflow) (1.6.3)\n",
            "Requirement already satisfied: flatbuffers>=24.3.25 in /usr/local/lib/python3.11/dist-packages (from tensorflow) (25.2.10)\n",
            "Requirement already satisfied: gast!=0.5.0,!=0.5.1,!=0.5.2,>=0.2.1 in /usr/local/lib/python3.11/dist-packages (from tensorflow) (0.6.0)\n",
            "Requirement already satisfied: google-pasta>=0.1.1 in /usr/local/lib/python3.11/dist-packages (from tensorflow) (0.2.0)\n",
            "Requirement already satisfied: libclang>=13.0.0 in /usr/local/lib/python3.11/dist-packages (from tensorflow) (18.1.1)\n",
            "Requirement already satisfied: opt-einsum>=2.3.2 in /usr/local/lib/python3.11/dist-packages (from tensorflow) (3.4.0)\n",
            "Requirement already satisfied: protobuf!=4.21.0,!=4.21.1,!=4.21.2,!=4.21.3,!=4.21.4,!=4.21.5,<6.0.0dev,>=3.20.3 in /usr/local/lib/python3.11/dist-packages (from tensorflow) (5.29.5)\n",
            "Requirement already satisfied: setuptools in /usr/local/lib/python3.11/dist-packages (from tensorflow) (75.2.0)\n",
            "Requirement already satisfied: six>=1.12.0 in /usr/local/lib/python3.11/dist-packages (from tensorflow) (1.17.0)\n",
            "Requirement already satisfied: termcolor>=1.1.0 in /usr/local/lib/python3.11/dist-packages (from tensorflow) (3.1.0)\n",
            "Requirement already satisfied: typing-extensions>=3.6.6 in /usr/local/lib/python3.11/dist-packages (from tensorflow) (4.14.1)\n",
            "Requirement already satisfied: wrapt>=1.11.0 in /usr/local/lib/python3.11/dist-packages (from tensorflow) (1.17.2)\n",
            "Requirement already satisfied: grpcio<2.0,>=1.24.3 in /usr/local/lib/python3.11/dist-packages (from tensorflow) (1.74.0)\n",
            "Requirement already satisfied: tensorboard~=2.19.0 in /usr/local/lib/python3.11/dist-packages (from tensorflow) (2.19.0)\n",
            "Requirement already satisfied: keras>=3.5.0 in /usr/local/lib/python3.11/dist-packages (from tensorflow) (3.10.0)\n",
            "Requirement already satisfied: h5py>=3.11.0 in /usr/local/lib/python3.11/dist-packages (from tensorflow) (3.14.0)\n",
            "Requirement already satisfied: ml-dtypes<1.0.0,>=0.5.1 in /usr/local/lib/python3.11/dist-packages (from tensorflow) (0.5.3)\n",
            "Requirement already satisfied: tensorflow-io-gcs-filesystem>=0.23.1 in /usr/local/lib/python3.11/dist-packages (from tensorflow) (0.37.1)\n",
            "Requirement already satisfied: wheel<1.0,>=0.23.0 in /usr/local/lib/python3.11/dist-packages (from astunparse>=1.6.0->tensorflow) (0.45.1)\n",
            "Requirement already satisfied: aiohttp!=4.0.0a0,!=4.0.0a1 in /usr/local/lib/python3.11/dist-packages (from fsspec[http]<=2025.3.0,>=2023.1.0->datasets) (3.12.15)\n",
            "Requirement already satisfied: hf-xet<2.0.0,>=1.1.3 in /usr/local/lib/python3.11/dist-packages (from huggingface-hub<1.0,>=0.34.0->transformers) (1.1.5)\n",
            "Requirement already satisfied: rich in /usr/local/lib/python3.11/dist-packages (from keras>=3.5.0->tensorflow) (13.9.4)\n",
            "Requirement already satisfied: namex in /usr/local/lib/python3.11/dist-packages (from keras>=3.5.0->tensorflow) (0.1.0)\n",
            "Requirement already satisfied: optree in /usr/local/lib/python3.11/dist-packages (from keras>=3.5.0->tensorflow) (0.17.0)\n",
            "Requirement already satisfied: charset-normalizer<4,>=2 in /usr/local/lib/python3.11/dist-packages (from requests->transformers) (3.4.2)\n",
            "Requirement already satisfied: idna<4,>=2.5 in /usr/local/lib/python3.11/dist-packages (from requests->transformers) (3.10)\n",
            "Requirement already satisfied: urllib3<3,>=1.21.1 in /usr/local/lib/python3.11/dist-packages (from requests->transformers) (2.5.0)\n",
            "Requirement already satisfied: certifi>=2017.4.17 in /usr/local/lib/python3.11/dist-packages (from requests->transformers) (2025.8.3)\n",
            "Requirement already satisfied: markdown>=2.6.8 in /usr/local/lib/python3.11/dist-packages (from tensorboard~=2.19.0->tensorflow) (3.8.2)\n",
            "Requirement already satisfied: tensorboard-data-server<0.8.0,>=0.7.0 in /usr/local/lib/python3.11/dist-packages (from tensorboard~=2.19.0->tensorflow) (0.7.2)\n",
            "Requirement already satisfied: werkzeug>=1.0.1 in /usr/local/lib/python3.11/dist-packages (from tensorboard~=2.19.0->tensorflow) (3.1.3)\n",
            "Requirement already satisfied: python-dateutil>=2.8.2 in /usr/local/lib/python3.11/dist-packages (from pandas->datasets) (2.9.0.post0)\n",
            "Requirement already satisfied: pytz>=2020.1 in /usr/local/lib/python3.11/dist-packages (from pandas->datasets) (2025.2)\n",
            "Requirement already satisfied: tzdata>=2022.7 in /usr/local/lib/python3.11/dist-packages (from pandas->datasets) (2025.2)\n",
            "Requirement already satisfied: aiohappyeyeballs>=2.5.0 in /usr/local/lib/python3.11/dist-packages (from aiohttp!=4.0.0a0,!=4.0.0a1->fsspec[http]<=2025.3.0,>=2023.1.0->datasets) (2.6.1)\n",
            "Requirement already satisfied: aiosignal>=1.4.0 in /usr/local/lib/python3.11/dist-packages (from aiohttp!=4.0.0a0,!=4.0.0a1->fsspec[http]<=2025.3.0,>=2023.1.0->datasets) (1.4.0)\n",
            "Requirement already satisfied: attrs>=17.3.0 in /usr/local/lib/python3.11/dist-packages (from aiohttp!=4.0.0a0,!=4.0.0a1->fsspec[http]<=2025.3.0,>=2023.1.0->datasets) (25.3.0)\n",
            "Requirement already satisfied: frozenlist>=1.1.1 in /usr/local/lib/python3.11/dist-packages (from aiohttp!=4.0.0a0,!=4.0.0a1->fsspec[http]<=2025.3.0,>=2023.1.0->datasets) (1.7.0)\n",
            "Requirement already satisfied: multidict<7.0,>=4.5 in /usr/local/lib/python3.11/dist-packages (from aiohttp!=4.0.0a0,!=4.0.0a1->fsspec[http]<=2025.3.0,>=2023.1.0->datasets) (6.6.3)\n",
            "Requirement already satisfied: propcache>=0.2.0 in /usr/local/lib/python3.11/dist-packages (from aiohttp!=4.0.0a0,!=4.0.0a1->fsspec[http]<=2025.3.0,>=2023.1.0->datasets) (0.3.2)\n",
            "Requirement already satisfied: yarl<2.0,>=1.17.0 in /usr/local/lib/python3.11/dist-packages (from aiohttp!=4.0.0a0,!=4.0.0a1->fsspec[http]<=2025.3.0,>=2023.1.0->datasets) (1.20.1)\n",
            "Requirement already satisfied: MarkupSafe>=2.1.1 in /usr/local/lib/python3.11/dist-packages (from werkzeug>=1.0.1->tensorboard~=2.19.0->tensorflow) (3.0.2)\n",
            "Requirement already satisfied: markdown-it-py>=2.2.0 in /usr/local/lib/python3.11/dist-packages (from rich->keras>=3.5.0->tensorflow) (3.0.0)\n",
            "Requirement already satisfied: pygments<3.0.0,>=2.13.0 in /usr/local/lib/python3.11/dist-packages (from rich->keras>=3.5.0->tensorflow) (2.19.2)\n",
            "Requirement already satisfied: mdurl~=0.1 in /usr/local/lib/python3.11/dist-packages (from markdown-it-py>=2.2.0->rich->keras>=3.5.0->tensorflow) (0.1.2)\n"
          ]
        }
      ]
    },
    {
      "cell_type": "markdown",
      "metadata": {
        "id": "1a74ce3d"
      },
      "source": [
        "## Load dataset\n",
        "\n",
        "### Subtask:\n",
        "Fetch a suitable dataset for phishing/smishing messages with 'message' and 'label' columns (0 for safe, 1 for suspicious). Load the dataset into a pandas DataFrame or Hugging Face Dataset object.\n"
      ]
    },
    {
      "cell_type": "markdown",
      "metadata": {
        "id": "89a1552a"
      },
      "source": [
        "**Reasoning**:\n",
        "Import the necessary function and load the dataset using the `load_dataset` function.\n",
        "\n"
      ]
    },
    {
      "cell_type": "code",
      "metadata": {
        "colab": {
          "base_uri": "https://localhost:8080/"
        },
        "id": "74d54d79",
        "outputId": "de4809a2-340e-406e-93f0-9b84e936abc7"
      },
      "source": [
        "from datasets import load_dataset\n",
        "import pandas as pd\n",
        "\n",
        "# Attempt to load a suitable dataset. 'sms_spam' is a common dataset for SMS,\n",
        "# but we need a dataset with broader phishing/scam messages beyond just SMS.\n",
        "# Searching for datasets on Hugging Face Hub related to \"phishing\", \"scam\", \"malicious text\".\n",
        "# For demonstration, we will still start with 'sms_spam' as a common example,\n",
        "# but acknowledge the need for a more comprehensive dataset for a real-world application.\n",
        "# A more robust solution would involve finding and potentially combining multiple datasets.\n",
        "\n",
        "try:\n",
        "    # Let's start with sms_spam as it's readily available, but note its limitation to SMS.\n",
        "    dataset = load_dataset(\"sms_spam\")\n",
        "    # Rename columns to 'message' and 'label' if they are 'sms' and 'label'\n",
        "    if 'sms' in dataset['train'].column_names and 'label' in dataset['train'].column_names:\n",
        "        dataset = dataset.rename_columns({\"sms\": \"message\"})\n",
        "    print(\"Loaded 'sms_spam' dataset. Note: This dataset is primarily SMS spam.\")\n",
        "    print(\"For a real-world application scanning notifications, a dataset with broader phishing/scam examples would be necessary.\")\n",
        "\n",
        "except Exception as e:\n",
        "    print(f\"Could not load 'sms_spam' dataset: {e}\")\n",
        "    # Placeholder for attempting to load a more comprehensive dataset\n",
        "    try:\n",
        "        print(\"Attempting to load a potentially broader dataset (placeholder)...\")\n",
        "        # In a real scenario, you would replace this with code to load a suitable dataset\n",
        "        # For example: dataset = load_dataset(\"user/dataset_with_phishing_scam_messages\")\n",
        "        # For this example, we will proceed with sms_spam if it loaded, or fail if not.\n",
        "        raise Exception(\"No suitable alternative dataset found or implemented in this example.\")\n",
        "    except Exception as e_alt:\n",
        "        print(f\"Could not load an alternative dataset: {e_alt}\")\n",
        "        dataset = None # Ensure dataset is None if loading fails\n",
        "\n",
        "if dataset:\n",
        "    print(\"Dataset loaded successfully.\")\n",
        "    print(dataset)\n",
        "    # Display the first few examples to understand the data format\n",
        "    if 'train' in dataset:\n",
        "        print(\"First 5 examples from the training set:\")\n",
        "        print(dataset['train'].select(range(5)))\n",
        "else:\n",
        "    print(\"Failed to load a suitable dataset.\")"
      ],
      "execution_count": 4,
      "outputs": [
        {
          "output_type": "stream",
          "name": "stdout",
          "text": [
            "Loaded 'sms_spam' dataset. Note: This dataset is primarily SMS spam.\n",
            "For a real-world application scanning notifications, a dataset with broader phishing/scam examples would be necessary.\n",
            "Dataset loaded successfully.\n",
            "DatasetDict({\n",
            "    train: Dataset({\n",
            "        features: ['message', 'label'],\n",
            "        num_rows: 5574\n",
            "    })\n",
            "})\n",
            "First 5 examples from the training set:\n",
            "Dataset({\n",
            "    features: ['message', 'label'],\n",
            "    num_rows: 5\n",
            "})\n"
          ]
        }
      ]
    },
    {
      "cell_type": "markdown",
      "metadata": {
        "id": "61cd083b"
      },
      "source": [
        "## Load tinybert model and tokenizer\n",
        "\n",
        "### Subtask:\n",
        "Load the pre-trained TinyBERT model (\"huawei-noah/TinyBERT_General_4L_312D\") and its corresponding tokenizer from Hugging Face.\n"
      ]
    },
    {
      "cell_type": "markdown",
      "metadata": {
        "id": "1fc03fb8"
      },
      "source": [
        "**Reasoning**:\n",
        "The subtask requires loading the pre-trained TinyBERT model and tokenizer from Hugging Face. I need to import the necessary classes from the `transformers` library and then use the `from_pretrained` method to load the model and tokenizer.\n",
        "\n"
      ]
    },
    {
      "cell_type": "markdown",
      "metadata": {
        "id": "1bec3971"
      },
      "source": [
        "**Reasoning**:\n",
        "The previous command failed because `TFTinyBERTForSequenceClassification` could not be imported. Based on the Hugging Face documentation and common practices, the correct class for TensorFlow TinyBERT for sequence classification is likely `TFTinyBertForSequenceClassification` (with a lowercase 'b'). I will correct the import statement and retry loading the model and tokenizer.\n",
        "\n"
      ]
    },
    {
      "cell_type": "code",
      "metadata": {
        "colab": {
          "base_uri": "https://localhost:8080/",
          "height": 260,
          "referenced_widgets": [
            "9ceff831dbb24c02baa169982d7cc370",
            "f21106cbe2b7492088736c1cc1c2057f",
            "1fd33231f16242ffa9cd3e990f7bbcac",
            "8fd17db425804047b2eb8d5361327221",
            "1a60906215be4120b5bc70fe238d43d2",
            "31ea71dd6dcb49e79e48b33f8996ff55",
            "7b70b1f3ab05425993d75d6fef4e87d3",
            "c9962e8a3c8b485b8caeaed884c3faaf",
            "e73cf51d467d45ff964047bbae688832",
            "57d4b920cb774453b26536de53a06c4e",
            "015112d4faaf455cb2fb6081c74fb6c7"
          ]
        },
        "id": "f807caa9",
        "outputId": "a112fb9b-93af-48f9-be1c-b5d1dc1cf603"
      },
      "source": [
        "from transformers import TFAutoModelForSequenceClassification, AutoTokenizer\n",
        "\n",
        "# Load the pre-trained TinyBERT tokenizer using AutoTokenizer\n",
        "tokenizer = AutoTokenizer.from_pretrained(\"huawei-noah/TinyBERT_General_4L_312D\")\n",
        "\n",
        "# Load the pre-trained TinyBERT model for sequence classification using TFAutoModelForSequenceClassification\n",
        "# This class can load the appropriate model based on the provided model name.\n",
        "# Add from_pt=True to load from PyTorch weights\n",
        "try:\n",
        "    model = TFAutoModelForSequenceClassification.from_pretrained(\"huawei-noah/TinyBERT_General_4L_312D\", num_labels=2, from_pt=True)\n",
        "    print(\"\\nTinyBERT model loaded successfully using TFAutoModelForSequenceClassification and PyTorch weights.\")\n",
        "except Exception as e:\n",
        "    print(f\"\\nFailed to load TinyBERT model using TFAutoModelForSequenceClassification: {e}\")\n",
        "    print(\"It's possible the model name 'huawei-noah/TinyBERT_General_4L_312D' is not directly supported by TFAutoModelForSequenceClassification for sequence classification, or there's another configuration issue.\")\n",
        "\n",
        "\n",
        "print(\"\\nAttempting to import TFTinyBertForSequenceClassification again (might be an alias or specific import path):\")\n",
        "try:\n",
        "    from transformers import TFTinyBertForSequenceClassification\n",
        "    print(\"Import successful!\")\n",
        "except ImportError:\n",
        "    print(\"TFTinyBertForSequenceClassification still not found directly.\")"
      ],
      "execution_count": 9,
      "outputs": [
        {
          "output_type": "display_data",
          "data": {
            "text/plain": [
              "pytorch_model.bin:   0%|          | 0.00/62.7M [00:00<?, ?B/s]"
            ],
            "application/vnd.jupyter.widget-view+json": {
              "version_major": 2,
              "version_minor": 0,
              "model_id": "9ceff831dbb24c02baa169982d7cc370"
            }
          },
          "metadata": {}
        },
        {
          "output_type": "stream",
          "name": "stderr",
          "text": [
            "TensorFlow and JAX classes are deprecated and will be removed in Transformers v5. We recommend migrating to PyTorch classes or pinning your version of Transformers.\n",
            "Some weights of the PyTorch model were not used when initializing the TF 2.0 model TFBertForSequenceClassification: ['fit_denses.1.bias', 'fit_denses.4.bias', 'fit_denses.2.bias', 'fit_denses.4.weight', 'fit_denses.2.weight', 'fit_denses.0.weight', 'fit_denses.0.bias', 'fit_denses.1.weight', 'fit_denses.3.bias', 'fit_denses.3.weight']\n",
            "- This IS expected if you are initializing TFBertForSequenceClassification from a PyTorch model trained on another task or with another architecture (e.g. initializing a TFBertForSequenceClassification model from a BertForPreTraining model).\n",
            "- This IS NOT expected if you are initializing TFBertForSequenceClassification from a PyTorch model that you expect to be exactly identical (e.g. initializing a TFBertForSequenceClassification model from a BertForSequenceClassification model).\n",
            "Some weights or buffers of the TF 2.0 model TFBertForSequenceClassification were not initialized from the PyTorch model and are newly initialized: ['classifier.weight', 'classifier.bias']\n",
            "You should probably TRAIN this model on a down-stream task to be able to use it for predictions and inference.\n"
          ]
        },
        {
          "output_type": "stream",
          "name": "stdout",
          "text": [
            "\n",
            "TinyBERT model loaded successfully using TFAutoModelForSequenceClassification and PyTorch weights.\n",
            "\n",
            "Attempting to import TFTinyBertForSequenceClassification again (might be an alias or specific import path):\n",
            "TFTinyBertForSequenceClassification still not found directly.\n"
          ]
        }
      ]
    },
    {
      "cell_type": "markdown",
      "metadata": {
        "id": "f24067de"
      },
      "source": [
        "## Preprocess Data\n",
        "\n",
        "### Subtask:\n",
        "Tokenize the 'message' column using the loaded tokenizer. Split the dataset into training and testing sets."
      ]
    },
    {
      "cell_type": "markdown",
      "metadata": {
        "id": "a58194f3"
      },
      "source": [
        "**Reasoning**:\n",
        "Tokenize the text data using the loaded TinyBERT tokenizer. The tokenizer will convert the text messages into numerical input IDs, attention masks, and token type IDs that the model can understand. After tokenization, split the dataset into training and testing sets to prepare for model training and evaluation."
      ]
    },
    {
      "cell_type": "code",
      "metadata": {
        "colab": {
          "base_uri": "https://localhost:8080/",
          "height": 260,
          "referenced_widgets": [
            "a94ccf8193464a58acdcc1b2a301d5ba",
            "4869a7ad0ae74f3693f4c856ab633ccb",
            "6c032d76814f4649a737c3e5e2ac112d",
            "fa230a7365a24e51a22cf4e5d9e8459f",
            "69bf68227fd9411b8b28eb88e269afbd",
            "edc0fe3b24ff48e29f3cc652c759cefd",
            "da21f8aeb80243f9a9ba3f85110d6ed8",
            "fbdea1b229c64522bf59ed7a001ddf1e",
            "4158d323035247b7a0ffcb4ddf7b8695",
            "6ea125d511bb433cb5994cfb94f2becb",
            "6c1bc98240e64582b55c0d3f498f409c"
          ]
        },
        "id": "9d76501a",
        "outputId": "e94655f1-47e7-47df-f5ae-debcc7e28518"
      },
      "source": [
        "from sklearn.model_selection import train_test_split\n",
        "import tensorflow as tf\n",
        "\n",
        "# Tokenize the dataset\n",
        "def tokenize_function(examples):\n",
        "    # Use truncation and padding to handle varying message lengths\n",
        "    return tokenizer(examples[\"message\"], padding=\"max_length\", truncation=True, max_length=128) # Increased max_length\n",
        "\n",
        "# Apply tokenization to the dataset\n",
        "tokenized_datasets = dataset.map(tokenize_function, batched=True)\n",
        "\n",
        "# Convert to TensorFlow datasets\n",
        "# Remove the original 'message' column as it's no longer needed after tokenization\n",
        "tokenized_datasets = tokenized_datasets.remove_columns([\"message\"])\n",
        "# Rename the 'label' column to 'labels' to match the expected input name for the model\n",
        "tokenized_datasets = tokenized_datasets.rename_column(\"label\", \"labels\")\n",
        "\n",
        "# Split the dataset into training and testing sets\n",
        "# Use the existing split if available (like in sms_spam), otherwise perform a split\n",
        "if 'train' in tokenized_datasets and 'test' in tokenized_datasets:\n",
        "    train_dataset = tokenized_datasets['train']\n",
        "    test_dataset = tokenized_datasets['test']\n",
        "    print(\"Using existing train/test split.\")\n",
        "elif 'train' in tokenized_datasets:\n",
        "    # If only a 'train' split exists, split it into train and test\n",
        "    train_test_split_dataset = tokenized_datasets['train'].train_test_split(test_size=0.2)\n",
        "    train_dataset = train_test_split_dataset['train']\n",
        "    test_dataset = train_test_split_dataset['test']\n",
        "    print(\"Created train/test split from the available data.\")\n",
        "else:\n",
        "    raise Exception(\"Dataset does not have a recognizable split for training and testing.\")\n",
        "\n",
        "\n",
        "# Prepare the datasets for TensorFlow\n",
        "# Convert to TensorFlow format, specifying the columns the model expects\n",
        "train_dataset = train_dataset.to_tf_dataset(\n",
        "    columns=['input_ids', 'attention_mask'],\n",
        "    label_cols=['labels'],\n",
        "    batch_size=16,\n",
        "    shuffle=True\n",
        ")\n",
        "\n",
        "test_dataset = test_dataset.to_tf_dataset(\n",
        "    columns=['input_ids', 'attention_mask'],\n",
        "    label_cols=['labels'],\n",
        "    batch_size=16,\n",
        "    shuffle=False # No need to shuffle test data\n",
        ")\n",
        "\n",
        "print(\"\\nData preprocessing complete.\")\n",
        "print(\"Training dataset:\", train_dataset)\n",
        "print(\"Testing dataset:\", test_dataset)"
      ],
      "execution_count": 10,
      "outputs": [
        {
          "output_type": "display_data",
          "data": {
            "text/plain": [
              "Map:   0%|          | 0/5574 [00:00<?, ? examples/s]"
            ],
            "application/vnd.jupyter.widget-view+json": {
              "version_major": 2,
              "version_minor": 0,
              "model_id": "a94ccf8193464a58acdcc1b2a301d5ba"
            }
          },
          "metadata": {}
        },
        {
          "output_type": "stream",
          "name": "stdout",
          "text": [
            "Created train/test split from the available data.\n"
          ]
        },
        {
          "output_type": "stream",
          "name": "stderr",
          "text": [
            "/usr/local/lib/python3.11/dist-packages/datasets/arrow_dataset.py:403: FutureWarning: The output of `to_tf_dataset` will change when a passing single element list for `labels` or `columns` in the next datasets version. To return a tuple structure rather than dict, pass a single string.\n",
            "Old behaviour: columns=['a'], labels=['labels'] -> (tf.Tensor, tf.Tensor)  \n",
            "             : columns='a', labels='labels' -> (tf.Tensor, tf.Tensor)  \n",
            "New behaviour: columns=['a'],labels=['labels'] -> ({'a': tf.Tensor}, {'labels': tf.Tensor})  \n",
            "             : columns='a', labels='labels' -> (tf.Tensor, tf.Tensor) \n",
            "  warnings.warn(\n"
          ]
        },
        {
          "output_type": "stream",
          "name": "stdout",
          "text": [
            "\n",
            "Data preprocessing complete.\n",
            "Training dataset: <_PrefetchDataset element_spec=({'input_ids': TensorSpec(shape=(None, 128), dtype=tf.int64, name=None), 'attention_mask': TensorSpec(shape=(None, 128), dtype=tf.int64, name=None)}, TensorSpec(shape=(None,), dtype=tf.int64, name=None))>\n",
            "Testing dataset: <_PrefetchDataset element_spec=({'input_ids': TensorSpec(shape=(None, 128), dtype=tf.int64, name=None), 'attention_mask': TensorSpec(shape=(None, 128), dtype=tf.int64, name=None)}, TensorSpec(shape=(None,), dtype=tf.int64, name=None))>\n"
          ]
        }
      ]
    },
    {
      "cell_type": "markdown",
      "metadata": {
        "id": "a1621fbc"
      },
      "source": [
        "## Build and Compile Model\n",
        "\n",
        "### Subtask:\n",
        "Build a TensorFlow model for binary classification on top of the TinyBERT model. Compile the model with the Adam optimizer, SparseCategoricalCrossentropy loss, and accuracy metric."
      ]
    },
    {
      "cell_type": "markdown",
      "metadata": {
        "id": "3298404a"
      },
      "source": [
        "**Reasoning**:\n",
        "Use the loaded `TFAutoModelForSequenceClassification` as the base and compile it for the binary classification task. Define the optimizer, loss function suitable for binary classification, and the metric to track during training."
      ]
    },
    {
      "cell_type": "code",
      "metadata": {
        "colab": {
          "base_uri": "https://localhost:8080/"
        },
        "id": "3bdcd9fb",
        "outputId": "d0575c2b-793c-4a90-f0f1-8ad72e2fc2b0"
      },
      "source": [
        "import tensorflow as tf\n",
        "\n",
        "# The loaded model is already configured for sequence classification with 2 labels.\n",
        "# We can directly compile this model.\n",
        "\n",
        "# Define the optimizer\n",
        "optimizer = tf.keras.optimizers.Adam(learning_rate=5e-5)\n",
        "\n",
        "# Define the loss function. Use SparseCategoricalCrossentropy for integer labels.\n",
        "loss = tf.keras.losses.SparseCategoricalCrossentropy(from_logits=True)\n",
        "\n",
        "# Define the metrics\n",
        "metrics = ['accuracy']\n",
        "\n",
        "# Compile the model\n",
        "model.compile(optimizer=optimizer, loss=loss, metrics=metrics)\n",
        "\n",
        "print(\"Model built and compiled successfully.\")"
      ],
      "execution_count": 11,
      "outputs": [
        {
          "output_type": "stream",
          "name": "stdout",
          "text": [
            "Model built and compiled successfully.\n"
          ]
        }
      ]
    },
    {
      "cell_type": "markdown",
      "metadata": {
        "id": "80cf32b7"
      },
      "source": [
        "## Train Model\n",
        "\n",
        "### Subtask:\n",
        "Train the model on the training data for 5 epochs with a batch size of 16."
      ]
    },
    {
      "cell_type": "markdown",
      "metadata": {
        "id": "006a515f"
      },
      "source": [
        "**Reasoning**:\n",
        "Train the compiled model using the `fit` method, providing the training dataset, the number of epochs, and the batch size."
      ]
    },
    {
      "cell_type": "code",
      "metadata": {
        "colab": {
          "base_uri": "https://localhost:8080/"
        },
        "id": "1c4efead",
        "outputId": "39b3a93a-5466-469a-b0fe-2ef97655c7dc"
      },
      "source": [
        "print(\"Starting model training...\")\n",
        "\n",
        "# Train the model\n",
        "history = model.fit(\n",
        "    train_dataset,\n",
        "    epochs=5\n",
        ")\n",
        "\n",
        "print(\"Model training complete.\")"
      ],
      "execution_count": 12,
      "outputs": [
        {
          "output_type": "stream",
          "name": "stdout",
          "text": [
            "Starting model training...\n",
            "Epoch 1/5\n",
            "279/279 [==============================] - 604s 2s/step - loss: 0.1476 - accuracy: 0.9596\n",
            "Epoch 2/5\n",
            "279/279 [==============================] - 567s 2s/step - loss: 0.0479 - accuracy: 0.9872\n",
            "Epoch 3/5\n",
            "279/279 [==============================] - 554s 2s/step - loss: 0.0266 - accuracy: 0.9930\n",
            "Epoch 4/5\n",
            "279/279 [==============================] - 561s 2s/step - loss: 0.0153 - accuracy: 0.9964\n",
            "Epoch 5/5\n",
            "279/279 [==============================] - 568s 2s/step - loss: 0.0068 - accuracy: 0.9980\n",
            "Model training complete.\n"
          ]
        }
      ]
    },
    {
      "cell_type": "markdown",
      "metadata": {
        "id": "8f252014"
      },
      "source": [
        "## Evaluate Model\n",
        "\n",
        "### Subtask:\n",
        "Evaluate the trained model on the testing data to assess its accuracy."
      ]
    },
    {
      "cell_type": "markdown",
      "metadata": {
        "id": "420f9b0f"
      },
      "source": [
        "**Reasoning**:\n",
        "Evaluate the trained model on the test dataset using the `evaluate` method to get the loss and accuracy."
      ]
    },
    {
      "cell_type": "code",
      "metadata": {
        "colab": {
          "base_uri": "https://localhost:8080/"
        },
        "id": "3d848983",
        "outputId": "974e17d5-f7ef-486a-c322-19018ec0bde5"
      },
      "source": [
        "print(\"Evaluating model on the test dataset...\")\n",
        "\n",
        "# Evaluate the model on the test dataset\n",
        "loss, accuracy = model.evaluate(test_dataset)\n",
        "\n",
        "print(f\"\\nTest Loss: {loss:.4f}\")\n",
        "print(f\"Test Accuracy: {accuracy:.4f}\")"
      ],
      "execution_count": 14,
      "outputs": [
        {
          "output_type": "stream",
          "name": "stdout",
          "text": [
            "Evaluating model on the test dataset...\n",
            "70/70 [==============================] - 68s 938ms/step - loss: 0.0422 - accuracy: 0.9928\n",
            "\n",
            "Test Loss: 0.0422\n",
            "Test Accuracy: 0.9928\n"
          ]
        }
      ]
    },
    {
      "cell_type": "markdown",
      "metadata": {
        "id": "aab0b28e"
      },
      "source": [
        "## Save Model\n",
        "\n",
        "### Subtask:\n",
        "Save the trained model in the TensorFlow SavedModel format."
      ]
    },
    {
      "cell_type": "markdown",
      "metadata": {
        "id": "126afe0c"
      },
      "source": [
        "**Reasoning**:\n",
        "Save the trained model using the `save` method in the SavedModel format."
      ]
    },
    {
      "cell_type": "code",
      "metadata": {
        "colab": {
          "base_uri": "https://localhost:8080/"
        },
        "id": "b303f60a",
        "outputId": "7147eae5-ca89-4794-e295-5721d37ab2ef"
      },
      "source": [
        "import os\n",
        "\n",
        "# Define the directory to save the model\n",
        "saved_model_dir = './tinybert_saved_model'\n",
        "\n",
        "# Save the model in the SavedModel format\n",
        "model.save(saved_model_dir, save_format='tf')\n",
        "\n",
        "print(f\"Model saved to {saved_model_dir}\")"
      ],
      "execution_count": 15,
      "outputs": [
        {
          "output_type": "stream",
          "name": "stdout",
          "text": [
            "Model saved to ./tinybert_saved_model\n"
          ]
        }
      ]
    },
    {
      "cell_type": "markdown",
      "metadata": {
        "id": "edd922a7"
      },
      "source": [
        "## Convert to TFLite\n",
        "\n",
        "### Subtask:\n",
        "Convert the SavedModel to TensorFlow Lite format with optimizations for mobile deployment."
      ]
    },
    {
      "cell_type": "markdown",
      "metadata": {
        "id": "db899a2f"
      },
      "source": [
        "**Reasoning**:\n",
        "Load the saved TensorFlow model and use the TFLiteConverter to convert it to a TFLite model. Apply optimizations for size and performance suitable for mobile devices."
      ]
    },
    {
      "cell_type": "code",
      "metadata": {
        "colab": {
          "base_uri": "https://localhost:8080/"
        },
        "id": "111dbf14",
        "outputId": "a05de79c-8265-4076-d39b-bd0895e0d578"
      },
      "source": [
        "import tensorflow as tf\n",
        "\n",
        "# Load the saved TensorFlow model\n",
        "saved_model_dir = './tinybert_saved_model'\n",
        "loaded_model = tf.saved_model.load(saved_model_dir)\n",
        "\n",
        "# Define the concrete function for the model\n",
        "# This is necessary for the TFLiteConverter\n",
        "# concrete_func = loaded_model.signatures[tf.saved_model.DEFAULT_SERVING_SIGNATURE_DEF_KEY] # This line is not needed for the converter\n",
        "\n",
        "# Instantiate the TFLite converter\n",
        "# Remove the signature_key argument\n",
        "converter = tf.lite.TFLiteConverter.from_saved_model(saved_model_dir)\n",
        "\n",
        "# Apply optimizations for mobile deployment\n",
        "converter.optimizations = [tf.lite.Optimize.DEFAULT]\n",
        "\n",
        "# Convert the model\n",
        "tflite_model = converter.convert()\n",
        "\n",
        "# Define the output path for the TFLite model\n",
        "tflite_model_path = './tinybert_quantized.tflite'\n",
        "\n",
        "# Save the TFLite model\n",
        "with open(tflite_model_path, 'wb') as f:\n",
        "    f.write(tflite_model)\n",
        "\n",
        "print(f\"TensorFlow Lite model saved to {tflite_model_path}\")"
      ],
      "execution_count": 17,
      "outputs": [
        {
          "output_type": "stream",
          "name": "stdout",
          "text": [
            "TensorFlow Lite model saved to ./tinybert_quantized.tflite\n"
          ]
        }
      ]
    },
    {
      "cell_type": "markdown",
      "metadata": {
        "id": "4b43e5de"
      },
      "source": [
        "## Download TFLite Model\n",
        "\n",
        "### Subtask:\n",
        "Download the generated `.tflite` model file."
      ]
    },
    {
      "cell_type": "markdown",
      "metadata": {
        "id": "5cb3144e"
      },
      "source": [
        "**Reasoning**:\n",
        "Provide code to download the saved TFLite model file directly from the Colab environment."
      ]
    },
    {
      "cell_type": "code",
      "metadata": {
        "colab": {
          "base_uri": "https://localhost:8080/",
          "height": 52
        },
        "id": "dd664866",
        "outputId": "e76441f5-0144-4836-feea-fa9fa8321fae"
      },
      "source": [
        "from google.colab import files\n",
        "\n",
        "# Define the path to the TFLite model file\n",
        "tflite_model_path = './tinybert_quantized.tflite'\n",
        "\n",
        "# Download the file\n",
        "try:\n",
        "  files.download(tflite_model_path)\n",
        "  print(f\"\\nDownloading {tflite_model_path}...\")\n",
        "except FileNotFoundError:\n",
        "  print(f\"\\nError: {tflite_model_path} not found. Please ensure the conversion step was successful.\")"
      ],
      "execution_count": 18,
      "outputs": [
        {
          "output_type": "display_data",
          "data": {
            "text/plain": [
              "<IPython.core.display.Javascript object>"
            ],
            "application/javascript": [
              "\n",
              "    async function download(id, filename, size) {\n",
              "      if (!google.colab.kernel.accessAllowed) {\n",
              "        return;\n",
              "      }\n",
              "      const div = document.createElement('div');\n",
              "      const label = document.createElement('label');\n",
              "      label.textContent = `Downloading \"${filename}\": `;\n",
              "      div.appendChild(label);\n",
              "      const progress = document.createElement('progress');\n",
              "      progress.max = size;\n",
              "      div.appendChild(progress);\n",
              "      document.body.appendChild(div);\n",
              "\n",
              "      const buffers = [];\n",
              "      let downloaded = 0;\n",
              "\n",
              "      const channel = await google.colab.kernel.comms.open(id);\n",
              "      // Send a message to notify the kernel that we're ready.\n",
              "      channel.send({})\n",
              "\n",
              "      for await (const message of channel.messages) {\n",
              "        // Send a message to notify the kernel that we're ready.\n",
              "        channel.send({})\n",
              "        if (message.buffers) {\n",
              "          for (const buffer of message.buffers) {\n",
              "            buffers.push(buffer);\n",
              "            downloaded += buffer.byteLength;\n",
              "            progress.value = downloaded;\n",
              "          }\n",
              "        }\n",
              "      }\n",
              "      const blob = new Blob(buffers, {type: 'application/binary'});\n",
              "      const a = document.createElement('a');\n",
              "      a.href = window.URL.createObjectURL(blob);\n",
              "      a.download = filename;\n",
              "      div.appendChild(a);\n",
              "      a.click();\n",
              "      div.remove();\n",
              "    }\n",
              "  "
            ]
          },
          "metadata": {}
        },
        {
          "output_type": "display_data",
          "data": {
            "text/plain": [
              "<IPython.core.display.Javascript object>"
            ],
            "application/javascript": [
              "download(\"download_05649c48-f11d-4e4a-8dbb-60fc6eae38fb\", \"tinybert_quantized.tflite\", 14636928)"
            ]
          },
          "metadata": {}
        },
        {
          "output_type": "stream",
          "name": "stdout",
          "text": [
            "\n",
            "Downloading ./tinybert_quantized.tflite...\n"
          ]
        }
      ]
    },
    {
      "cell_type": "markdown",
      "metadata": {
        "id": "7b743400"
      },
      "source": [
        "## Download SavedModel Directory\n",
        "\n",
        "### Subtask:\n",
        "Download the entire SavedModel directory."
      ]
    },
    {
      "cell_type": "markdown",
      "metadata": {
        "id": "5427ef64"
      },
      "source": [
        "**Reasoning**:\n",
        "Use a utility function to create a zip archive of the saved model directory and then provide code to download the zip file."
      ]
    },
    {
      "cell_type": "code",
      "metadata": {
        "colab": {
          "base_uri": "https://localhost:8080/",
          "height": 69
        },
        "id": "c0f8699b",
        "outputId": "f0eda534-13da-441c-c49f-59641b4e6e73"
      },
      "source": [
        "import shutil\n",
        "import os\n",
        "from google.colab import files\n",
        "\n",
        "# Define the directory to be zipped and the output zip file name\n",
        "saved_model_dir = './tinybert_saved_model'\n",
        "zip_filename = 'tinybert_saved_model.zip'\n",
        "\n",
        "# Create a zip archive of the directory\n",
        "shutil.make_archive(zip_filename.replace('.zip', ''), 'zip', saved_model_dir)\n",
        "\n",
        "print(f\"Created zip archive: {zip_filename}\")\n",
        "\n",
        "# Download the zip file\n",
        "try:\n",
        "  files.download(zip_filename)\n",
        "  print(f\"\\nDownloading {zip_filename}...\")\n",
        "except FileNotFoundError:\n",
        "  print(f\"\\nError: {zip_filename} not found. Please ensure the zipping step was successful.\")"
      ],
      "execution_count": 19,
      "outputs": [
        {
          "output_type": "stream",
          "name": "stdout",
          "text": [
            "Created zip archive: tinybert_saved_model.zip\n"
          ]
        },
        {
          "output_type": "display_data",
          "data": {
            "text/plain": [
              "<IPython.core.display.Javascript object>"
            ],
            "application/javascript": [
              "\n",
              "    async function download(id, filename, size) {\n",
              "      if (!google.colab.kernel.accessAllowed) {\n",
              "        return;\n",
              "      }\n",
              "      const div = document.createElement('div');\n",
              "      const label = document.createElement('label');\n",
              "      label.textContent = `Downloading \"${filename}\": `;\n",
              "      div.appendChild(label);\n",
              "      const progress = document.createElement('progress');\n",
              "      progress.max = size;\n",
              "      div.appendChild(progress);\n",
              "      document.body.appendChild(div);\n",
              "\n",
              "      const buffers = [];\n",
              "      let downloaded = 0;\n",
              "\n",
              "      const channel = await google.colab.kernel.comms.open(id);\n",
              "      // Send a message to notify the kernel that we're ready.\n",
              "      channel.send({})\n",
              "\n",
              "      for await (const message of channel.messages) {\n",
              "        // Send a message to notify the kernel that we're ready.\n",
              "        channel.send({})\n",
              "        if (message.buffers) {\n",
              "          for (const buffer of message.buffers) {\n",
              "            buffers.push(buffer);\n",
              "            downloaded += buffer.byteLength;\n",
              "            progress.value = downloaded;\n",
              "          }\n",
              "        }\n",
              "      }\n",
              "      const blob = new Blob(buffers, {type: 'application/binary'});\n",
              "      const a = document.createElement('a');\n",
              "      a.href = window.URL.createObjectURL(blob);\n",
              "      a.download = filename;\n",
              "      div.appendChild(a);\n",
              "      a.click();\n",
              "      div.remove();\n",
              "    }\n",
              "  "
            ]
          },
          "metadata": {}
        },
        {
          "output_type": "display_data",
          "data": {
            "text/plain": [
              "<IPython.core.display.Javascript object>"
            ],
            "application/javascript": [
              "download(\"download_8349b1bc-b865-4424-a2b8-752febcd393c\", \"tinybert_saved_model.zip\", 104207870)"
            ]
          },
          "metadata": {}
        },
        {
          "output_type": "stream",
          "name": "stdout",
          "text": [
            "\n",
            "Downloading tinybert_saved_model.zip...\n"
          ]
        }
      ]
    },
    {
      "cell_type": "markdown",
      "metadata": {
        "id": "d18e131a"
      },
      "source": [
        "## Demonstrate Test Cases\n",
        "\n",
        "### Subtask:\n",
        "Use the trained model to make predictions on a few sample messages and display the results."
      ]
    },
    {
      "cell_type": "markdown",
      "metadata": {
        "id": "0ddc9a10"
      },
      "source": [
        "**Reasoning**:\n",
        "Select a few examples from the test dataset or create new sample messages. Tokenize these messages and use the trained model to predict their labels. Display the original message, the predicted label, and the true label (if available)."
      ]
    },
    {
      "cell_type": "code",
      "metadata": {
        "colab": {
          "base_uri": "https://localhost:8080/"
        },
        "id": "b00333f7",
        "outputId": "79a5088b-dfe4-4189-c14d-074e5e2c8aa1"
      },
      "source": [
        "import tensorflow as tf\n",
        "import numpy as np\n",
        "\n",
        "# Define some sample messages to test\n",
        "test_messages = [\n",
        "    \"Congratulations! You've won a free iPhone. Click here to claim.\", # Suspicious\n",
        "    \"Meeting scheduled for tomorrow at 10 AM.\", # Safe\n",
        "    \"Your account has been compromised. Verify your details immediately.\", # Suspicious\n",
        "    \"Did you receive the document I sent?\", # Safe\n",
        "    \"Urgent: Your package is waiting for delivery. Please confirm your address.\", # Suspicious\n",
        "]\n",
        "\n",
        "# Tokenize the test messages\n",
        "# Use the same tokenizer and padding/truncation settings as during training\n",
        "tokenized_test_messages = tokenizer(\n",
        "    test_messages,\n",
        "    padding=\"max_length\",\n",
        "    truncation=True,\n",
        "    max_length=128,\n",
        "    return_tensors=\"tf\" # Return TensorFlow tensors\n",
        ")\n",
        "\n",
        "# Make predictions using the trained model\n",
        "predictions = model.predict(\n",
        "    {'input_ids': tokenized_test_messages['input_ids'],\n",
        "     'attention_mask': tokenized_test_messages['attention_mask']}\n",
        ")\n",
        "\n",
        "# Get the predicted labels (0 for safe, 1 for suspicious)\n",
        "# The model outputs logits, so apply argmax to get the predicted class index\n",
        "predicted_labels = np.argmax(predictions.logits, axis=1)\n",
        "\n",
        "# Map labels to readable strings\n",
        "label_map = {0: \"Safe\", 1: \"Suspicious\"}\n",
        "predicted_label_strings = [label_map[label] for label in predicted_labels]\n",
        "\n",
        "print(\"Test Case Predictions:\")\n",
        "for i, message in enumerate(test_messages):\n",
        "    print(f\"Message: {message}\")\n",
        "    print(f\"Predicted Label: {predicted_label_strings[i]}\")\n",
        "    # If you have true labels for these messages, you can add them here for comparison\n",
        "    print(\"-\" * 30)"
      ],
      "execution_count": 20,
      "outputs": [
        {
          "output_type": "stream",
          "name": "stderr",
          "text": [
            "TensorFlow and JAX classes are deprecated and will be removed in Transformers v5. We recommend migrating to PyTorch classes or pinning your version of Transformers.\n"
          ]
        },
        {
          "output_type": "stream",
          "name": "stdout",
          "text": [
            "1/1 [==============================] - 1s 1s/step\n",
            "Test Case Predictions:\n",
            "Message: Congratulations! You've won a free iPhone. Click here to claim.\n",
            "Predicted Label: Suspicious\n",
            "------------------------------\n",
            "Message: Meeting scheduled for tomorrow at 10 AM.\n",
            "Predicted Label: Safe\n",
            "------------------------------\n",
            "Message: Your account has been compromised. Verify your details immediately.\n",
            "Predicted Label: Safe\n",
            "------------------------------\n",
            "Message: Did you receive the document I sent?\n",
            "Predicted Label: Safe\n",
            "------------------------------\n",
            "Message: Urgent: Your package is waiting for delivery. Please confirm your address.\n",
            "Predicted Label: Safe\n",
            "------------------------------\n"
          ]
        }
      ]
    },
    {
      "cell_type": "markdown",
      "metadata": {
        "id": "88e6e1e8"
      },
      "source": [
        "## Visualize Training Accuracy\n",
        "\n",
        "### Subtask:\n",
        "Plot the training accuracy over epochs."
      ]
    },
    {
      "cell_type": "markdown",
      "metadata": {
        "id": "9ba8befe"
      },
      "source": [
        "**Reasoning**:\n",
        "Use the `history` object returned from the `model.fit()` method to plot the training accuracy over the epochs."
      ]
    },
    {
      "cell_type": "code",
      "metadata": {
        "colab": {
          "base_uri": "https://localhost:8080/",
          "height": 564
        },
        "id": "bf61c42e",
        "outputId": "41111b7d-1681-4f19-ee60-405d9f3fa694"
      },
      "source": [
        "import matplotlib.pyplot as plt\n",
        "\n",
        "# Get the accuracy history from the training\n",
        "accuracy_history = history.history['accuracy']\n",
        "\n",
        "# Plot the accuracy\n",
        "plt.figure(figsize=(8, 6))\n",
        "plt.plot(accuracy_history)\n",
        "plt.title('Model Accuracy over Epochs')\n",
        "plt.xlabel('Epoch')\n",
        "plt.ylabel('Accuracy')\n",
        "plt.grid(True)\n",
        "plt.show()"
      ],
      "execution_count": 21,
      "outputs": [
        {
          "output_type": "display_data",
          "data": {
            "text/plain": [
              "<Figure size 800x600 with 1 Axes>"
            ],
            "image/png": "[encoded data removed]"
          },
          "metadata": {}
        }
      ]
    }
  ]
}